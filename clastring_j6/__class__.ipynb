{
  "cells": [
    {
      "cell_type": "code",
      "execution_count": 1,
      "metadata": {
        "id": "BeU3eJoqQt5u"
      },
      "outputs": [],
      "source": [
        "import numpy as np\n",
        "import pandas as pd\n",
        "import seaborn as sns\n",
        "from sklearn import linear_model\n",
        "import sklearn.metrics as sm\n",
        "from sklearn.model_selection import train_test_split\n",
        "import matplotlib.pyplot as plt"
      ]
    },
    {
      "cell_type": "code",
      "execution_count": 2,
      "metadata": {
        "id": "gSumm6CVR51d"
      },
      "outputs": [],
      "source": [
        "from sklearn import datasets\n",
        "digits = datasets.load_digits()"
      ]
    },
    {
      "cell_type": "code",
      "execution_count": 3,
      "metadata": {
        "id": "NR1b7Jo-cl4p"
      },
      "outputs": [],
      "source": [
        "X = digits.data\n",
        "y = digits.target"
      ]
    },
    {
      "cell_type": "code",
      "execution_count": 4,
      "metadata": {
        "id": "pmpiLARxY4vq"
      },
      "outputs": [],
      "source": [
        "X_train , X_test , y_train , y_test = train_test_split(X , y , test_size=0.2)"
      ]
    },
    {
      "cell_type": "code",
      "execution_count": 5,
      "metadata": {
        "id": "7Hpn6VPVY9AL"
      },
      "outputs": [],
      "source": [
        "model = linear_model.LogisticRegression()"
      ]
    },
    {
      "cell_type": "code",
      "execution_count": 6,
      "metadata": {
        "colab": {
          "base_uri": "https://localhost:8080/",
          "height": 211
        },
        "id": "8SIVoIkWdlZm",
        "outputId": "d17e1e58-1e40-4c8d-e13d-07c2f4909912"
      },
      "outputs": [
        {
          "name": "stderr",
          "output_type": "stream",
          "text": [
            "C:\\Users\\ASUS\\AppData\\Roaming\\Python\\Python38\\site-packages\\sklearn\\linear_model\\_logistic.py:444: ConvergenceWarning: lbfgs failed to converge (status=1):\n",
            "STOP: TOTAL NO. of ITERATIONS REACHED LIMIT.\n",
            "\n",
            "Increase the number of iterations (max_iter) or scale the data as shown in:\n",
            "    https://scikit-learn.org/stable/modules/preprocessing.html\n",
            "Please also refer to the documentation for alternative solver options:\n",
            "    https://scikit-learn.org/stable/modules/linear_model.html#logistic-regression\n",
            "  n_iter_i = _check_optimize_result(\n"
          ]
        },
        {
          "data": {
            "text/html": [
              "<style>#sk-container-id-1 {color: black;background-color: white;}#sk-container-id-1 pre{padding: 0;}#sk-container-id-1 div.sk-toggleable {background-color: white;}#sk-container-id-1 label.sk-toggleable__label {cursor: pointer;display: block;width: 100%;margin-bottom: 0;padding: 0.3em;box-sizing: border-box;text-align: center;}#sk-container-id-1 label.sk-toggleable__label-arrow:before {content: \"▸\";float: left;margin-right: 0.25em;color: #696969;}#sk-container-id-1 label.sk-toggleable__label-arrow:hover:before {color: black;}#sk-container-id-1 div.sk-estimator:hover label.sk-toggleable__label-arrow:before {color: black;}#sk-container-id-1 div.sk-toggleable__content {max-height: 0;max-width: 0;overflow: hidden;text-align: left;background-color: #f0f8ff;}#sk-container-id-1 div.sk-toggleable__content pre {margin: 0.2em;color: black;border-radius: 0.25em;background-color: #f0f8ff;}#sk-container-id-1 input.sk-toggleable__control:checked~div.sk-toggleable__content {max-height: 200px;max-width: 100%;overflow: auto;}#sk-container-id-1 input.sk-toggleable__control:checked~label.sk-toggleable__label-arrow:before {content: \"▾\";}#sk-container-id-1 div.sk-estimator input.sk-toggleable__control:checked~label.sk-toggleable__label {background-color: #d4ebff;}#sk-container-id-1 div.sk-label input.sk-toggleable__control:checked~label.sk-toggleable__label {background-color: #d4ebff;}#sk-container-id-1 input.sk-hidden--visually {border: 0;clip: rect(1px 1px 1px 1px);clip: rect(1px, 1px, 1px, 1px);height: 1px;margin: -1px;overflow: hidden;padding: 0;position: absolute;width: 1px;}#sk-container-id-1 div.sk-estimator {font-family: monospace;background-color: #f0f8ff;border: 1px dotted black;border-radius: 0.25em;box-sizing: border-box;margin-bottom: 0.5em;}#sk-container-id-1 div.sk-estimator:hover {background-color: #d4ebff;}#sk-container-id-1 div.sk-parallel-item::after {content: \"\";width: 100%;border-bottom: 1px solid gray;flex-grow: 1;}#sk-container-id-1 div.sk-label:hover label.sk-toggleable__label {background-color: #d4ebff;}#sk-container-id-1 div.sk-serial::before {content: \"\";position: absolute;border-left: 1px solid gray;box-sizing: border-box;top: 0;bottom: 0;left: 50%;z-index: 0;}#sk-container-id-1 div.sk-serial {display: flex;flex-direction: column;align-items: center;background-color: white;padding-right: 0.2em;padding-left: 0.2em;position: relative;}#sk-container-id-1 div.sk-item {position: relative;z-index: 1;}#sk-container-id-1 div.sk-parallel {display: flex;align-items: stretch;justify-content: center;background-color: white;position: relative;}#sk-container-id-1 div.sk-item::before, #sk-container-id-1 div.sk-parallel-item::before {content: \"\";position: absolute;border-left: 1px solid gray;box-sizing: border-box;top: 0;bottom: 0;left: 50%;z-index: -1;}#sk-container-id-1 div.sk-parallel-item {display: flex;flex-direction: column;z-index: 1;position: relative;background-color: white;}#sk-container-id-1 div.sk-parallel-item:first-child::after {align-self: flex-end;width: 50%;}#sk-container-id-1 div.sk-parallel-item:last-child::after {align-self: flex-start;width: 50%;}#sk-container-id-1 div.sk-parallel-item:only-child::after {width: 0;}#sk-container-id-1 div.sk-dashed-wrapped {border: 1px dashed gray;margin: 0 0.4em 0.5em 0.4em;box-sizing: border-box;padding-bottom: 0.4em;background-color: white;}#sk-container-id-1 div.sk-label label {font-family: monospace;font-weight: bold;display: inline-block;line-height: 1.2em;}#sk-container-id-1 div.sk-label-container {text-align: center;}#sk-container-id-1 div.sk-container {/* jupyter's `normalize.less` sets `[hidden] { display: none; }` but bootstrap.min.css set `[hidden] { display: none !important; }` so we also need the `!important` here to be able to override the default hidden behavior on the sphinx rendered scikit-learn.org. See: https://github.com/scikit-learn/scikit-learn/issues/21755 */display: inline-block !important;position: relative;}#sk-container-id-1 div.sk-text-repr-fallback {display: none;}</style><div id=\"sk-container-id-1\" class=\"sk-top-container\"><div class=\"sk-text-repr-fallback\"><pre>LogisticRegression()</pre><b>In a Jupyter environment, please rerun this cell to show the HTML representation or trust the notebook. <br />On GitHub, the HTML representation is unable to render, please try loading this page with nbviewer.org.</b></div><div class=\"sk-container\" hidden><div class=\"sk-item\"><div class=\"sk-estimator sk-toggleable\"><input class=\"sk-toggleable__control sk-hidden--visually\" id=\"sk-estimator-id-1\" type=\"checkbox\" checked><label for=\"sk-estimator-id-1\" class=\"sk-toggleable__label sk-toggleable__label-arrow\">LogisticRegression</label><div class=\"sk-toggleable__content\"><pre>LogisticRegression()</pre></div></div></div></div></div>"
            ],
            "text/plain": [
              "LogisticRegression()"
            ]
          },
          "execution_count": 6,
          "metadata": {},
          "output_type": "execute_result"
        }
      ],
      "source": [
        "model.fit(X_train,y_train)"
      ]
    },
    {
      "cell_type": "code",
      "execution_count": 7,
      "metadata": {
        "id": "qLCQCXJXekXk"
      },
      "outputs": [],
      "source": [
        "out1 = model.predict(X_test)"
      ]
    },
    {
      "cell_type": "code",
      "execution_count": 8,
      "metadata": {
        "colab": {
          "base_uri": "https://localhost:8080/"
        },
        "id": "CYsyAzK7exrk",
        "outputId": "1489c5aa-f9c3-4693-a67f-3e1c5739d4de"
      },
      "outputs": [
        {
          "data": {
            "text/plain": [
              "array([4, 2, 0, 9, 8, 3, 8, 4, 1, 2, 5, 7, 7, 0, 8, 3, 1, 6, 8, 9, 1, 7,\n",
              "       3, 9, 0, 8, 2, 5, 7, 6, 7, 1, 6, 9, 1, 8, 3, 0, 0, 4, 9, 8, 5, 4,\n",
              "       4, 6, 2, 0, 2, 4, 8, 9, 7, 8, 8, 0, 5, 2, 9, 3, 0, 7, 9, 1, 2, 8,\n",
              "       0, 3, 6, 5, 2, 1, 3, 7, 7, 6, 0, 3, 6, 6, 3, 1, 7, 1, 4, 1, 2, 2,\n",
              "       5, 3, 5, 8, 0, 2, 7, 0, 6, 1, 1, 2, 7, 4, 6, 2, 2, 2, 7, 6, 0, 2,\n",
              "       5, 3, 2, 5, 9, 2, 3, 8, 1, 9, 9, 8, 7, 8, 7, 1, 6, 9, 7, 7, 7, 3,\n",
              "       2, 2, 4, 8, 1, 1, 1, 2, 9, 6, 2, 5, 4, 8, 3, 4, 9, 2, 1, 4, 1, 6,\n",
              "       5, 4, 3, 5, 2, 0, 7, 2, 9, 9, 8, 2, 5, 7, 3, 7, 4, 3, 0, 5, 3, 6,\n",
              "       3, 8, 1, 5, 1, 3, 1, 0, 5, 5, 7, 0, 0, 6, 5, 7, 3, 9, 1, 6, 8, 8,\n",
              "       8, 5, 9, 9, 1, 0, 5, 8, 1, 0, 2, 6, 5, 5, 3, 4, 0, 3, 6, 1, 2, 6,\n",
              "       2, 8, 8, 8, 8, 1, 2, 0, 6, 6, 3, 6, 0, 7, 7, 7, 0, 9, 7, 6, 6, 1,\n",
              "       2, 8, 1, 9, 1, 4, 6, 5, 2, 1, 2, 5, 3, 2, 0, 2, 2, 6, 3, 5, 4, 0,\n",
              "       3, 9, 4, 7, 8, 0, 8, 4, 8, 5, 6, 8, 7, 6, 5, 9, 2, 2, 9, 5, 1, 3,\n",
              "       4, 5, 5, 8, 2, 6, 8, 5, 7, 6, 5, 3, 4, 2, 7, 7, 0, 3, 1, 2, 9, 6,\n",
              "       4, 9, 8, 7, 6, 3, 5, 0, 5, 3, 6, 6, 3, 1, 8, 8, 9, 3, 1, 8, 4, 4,\n",
              "       0, 2, 5, 6, 2, 4, 9, 0, 5, 7, 7, 0, 9, 6, 3, 8, 7, 6, 7, 4, 7, 2,\n",
              "       2, 2, 6, 0, 3, 4, 7, 5])"
            ]
          },
          "execution_count": 8,
          "metadata": {},
          "output_type": "execute_result"
        }
      ],
      "source": [
        "out1"
      ]
    },
    {
      "cell_type": "code",
      "execution_count": 9,
      "metadata": {
        "id": "w0QQbPADgNJi"
      },
      "outputs": [],
      "source": [
        "er = y_test - out1"
      ]
    },
    {
      "cell_type": "code",
      "execution_count": 10,
      "metadata": {
        "colab": {
          "base_uri": "https://localhost:8080/"
        },
        "id": "PdnDznSWgUiG",
        "outputId": "13ded985-250b-48d8-935c-b04465bf7269"
      },
      "outputs": [
        {
          "name": "stdout",
          "output_type": "stream",
          "text": [
            "15\n",
            "345\n"
          ]
        }
      ],
      "source": [
        "sahih = 0\n",
        "qalat = 0\n",
        "\n",
        "for i in er:\n",
        "  if (i==0):\n",
        "    sahih = sahih + 1\n",
        "  if (i!=0):\n",
        "    qalat = qalat + 1\n",
        "print(qalat)\n",
        "print(sahih)"
      ]
    }
  ],
  "metadata": {
    "colab": {
      "provenance": []
    },
    "kernelspec": {
      "display_name": "Python 3",
      "name": "python3"
    },
    "language_info": {
      "codemirror_mode": {
        "name": "ipython",
        "version": 3
      },
      "file_extension": ".py",
      "mimetype": "text/x-python",
      "name": "python",
      "nbconvert_exporter": "python",
      "pygments_lexer": "ipython3",
      "version": "3.8.8"
    }
  },
  "nbformat": 4,
  "nbformat_minor": 0
}
